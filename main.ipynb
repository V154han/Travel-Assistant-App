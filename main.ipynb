{
 "cells": [
  {
   "cell_type": "code",
   "execution_count": 57,
   "metadata": {},
   "outputs": [],
   "source": [
    "# All the imports\n",
    "from dotenv import load_dotenv\n",
    "from langchain.tools import Tool, tool\n",
    "from langchain.chat_models import ChatOpenAI\n",
    "from langchain_community.tools import DuckDuckGoSearchRun\n",
    "from huggingface_hub import login\n",
    "from transformers import pipeline\n",
    "from langchain.prompts.prompt import PromptTemplate\n",
    "from langchain.agents import create_react_agent, AgentExecutor, LLMSingleActionAgent, create_structured_chat_agent,ZeroShotAgent\n",
    "from langchain_core.runnables.history import RunnableWithMessageHistory\n",
    "from langchain.chains import create_retrieval_chain, LLMChain\n",
    "from langchain.chains.combine_documents import create_stuff_documents_chain\n",
    "from langchain.memory import ChatMessageHistory, ConversationBufferWindowMemory, ConversationBufferMemory\n",
    "from langchain.output_parsers import StructuredOutputParser, ResponseSchema\n",
    "from langchain_core.prompts.chat import ChatPromptTemplate, MessagesPlaceholder\n",
    "import os"
   ]
  },
  {
   "cell_type": "code",
   "execution_count": 58,
   "metadata": {},
   "outputs": [
    {
     "name": "stdout",
     "output_type": "stream",
     "text": [
      "The token has not been saved to the git credentials helper. Pass `add_to_git_credential=True` in this function directly or `--add-to-git-credential` if using via `huggingface-cli` if you want to set the git credential as well.\n",
      "Token is valid (permission: read).\n",
      "Your token has been saved to C:\\Users\\VisahanSritharan\\.cache\\huggingface\\token\n",
      "Login successful\n"
     ]
    }
   ],
   "source": [
    "# Initializing the LLM and hugging face\n",
    "load_dotenv()\n",
    "llm = ChatOpenAI(api_key=os.getenv('OPENAI_API_KEY'), model='gpt-3.5-turbo', temperature=0)\n",
    "login(os.getenv('HUGGINGFACE_API_KEY'))"
   ]
  },
  {
   "cell_type": "code",
   "execution_count": 59,
   "metadata": {},
   "outputs": [],
   "source": [
    "# Outlining all the tools\n",
    "@tool\n",
    "def search_tool(query : str):\n",
    "    \"\"\"Performs online searches to answer the user query.\"\"\"\n",
    "    search = DuckDuckGoSearchRun()\n",
    "    answer = search.run(query)\n",
    "    return answer\n",
    "\n",
    "@tool\n",
    "def summarizaion_tool(query : str):\n",
    "    \"\"\"This tool takes a long text and summarizes it\"\"\"\n",
    "    summarizer = pipeline(\"summarization\", model=\"Falconsai/text_summarization\")\n",
    "    summary = summarizer(query, max_length=1000, min_length=30, do_sample=False)\n",
    "    return summary[0]['summary_text']\n",
    "\n",
    "tools = [\n",
    "    Tool(name='search_tool', func=search_tool, description=\"\"\"Performs online searches to answer the user query.\"\"\"),\n",
    "    Tool(name = 'summarization_tool', func=summarizaion_tool, description=\"\"\"This tool takes a long text and summarizes it\"\"\")\n",
    "]"
   ]
  },
  {
   "cell_type": "code",
   "execution_count": 69,
   "metadata": {},
   "outputs": [],
   "source": [
    "prefix = \"\"\"Have a conversation with a human, answer the questions as best as you can. You have access to the following tools \"\"\"\n",
    "suffix = \"\"\"\n",
    "Begin!\n",
    "{chat_history}\n",
    "Question: {input}\n",
    "{agent_scratchpad}\n",
    "\"\"\"\n",
    "\n",
    "\n",
    "#query = 'What was Apples gross margin in 2022'\n",
    "#query = 'What is the weather in London today'\n",
    "\n",
    "\n",
    "#query = 'Give me all the stock allocations for client 3'\n",
    "prompt = ZeroShotAgent.create_prompt(\n",
    "    tools=tools,\n",
    "    input_variables=['input', 'agent_scratchpad', 'tools', 'tool_names', 'history'], \n",
    "    prefix=prefix,\n",
    "    suffix=suffix\n",
    "   )\n",
    "\n",
    "llm = ChatOpenAI(api_key=os.getenv('OPENAI_API_KEY'), model='gpt-3.5-turbo', temperature=0.2)\n",
    "\n",
    "llm_chain = LLMChain(llm=llm, prompt=prompt)\n",
    "memory = ConversationBufferWindowMemory(memory_key='chat_history', k=5)\n",
    "\n",
    "tool_names = [tool.name for tool in tools]\n",
    "\n",
    "agent = ZeroShotAgent(\n",
    "    llm_chain=llm_chain,\n",
    "    tools = tools,\n",
    "    verbose = True,\n",
    ")\n",
    "\n",
    "\n",
    "\n",
    "agent_executor = AgentExecutor.from_agent_and_tools(\n",
    "    agent=agent,\n",
    "    tools=tools,\n",
    "    verbose = True,\n",
    "    memory = memory\n",
    ")\n",
    "\n"
   ]
  },
  {
   "cell_type": "code",
   "execution_count": 75,
   "metadata": {},
   "outputs": [
    {
     "name": "stdout",
     "output_type": "stream",
     "text": [
      "\n",
      "\n",
      "\u001b[1m> Entering new AgentExecutor chain...\u001b[0m\n",
      "\u001b[32;1m\u001b[1;3mThought: I need to compare the flight ticket prices to Lisbon and London.\n",
      "Action: search_tool\n",
      "Action Input: \"flight ticket prices from New York to Lisbon\"\u001b[0m\n",
      "Observation: \u001b[36;1m\u001b[1;3mThu, 30 Jan SWF - LIS with Fly Play. 1 stop. Mon, 3 Feb LIS - SWF with Fly Play. 1 stop. from £293. Lisbon. £300 per passenger.Departing Tue, 11 Feb, returning Sun, 16 Feb.Return flight with TAP Air Portugal.Outbound indirect flight with TAP Air Portugal, departs from New York Newark on Tue, 11 Feb, arriving in Lisbon.Inbound indirect flight ... The cheapest return flight ticket from New York John F Kennedy Airport to Lisbon found by KAYAK users in the last 72 hours was for $751 on TAP AIR PORTUGAL, followed by Azores Airlines ($753). ... KAYAK's flight Price Forecast tool uses historical data to determine whether the price for a flight to Lisbon from New York John F Kennedy Airport ... Compare flight deals to Lisbon from New York LaGuardia from over 1,000 providers. Then choose the cheapest plane tickets or fastest journeys. Flex your dates to find the best New York LaGuardia-Lisbon ticket prices. If you're flexible when it comes to your travel dates, use Skyscanner's \"Whole month\" tool to find the cheapest month, and even ... Compare flight deals to Lisbon from New York from over 1,000 providers. Then choose the cheapest or fastest plane tickets. Flight tickets to Lisbon start from 153 € one-way. Set up a Price Alert. You can easily track the fare of your cheap New York-Lisbon flights by creating an alert. Find the best deals on flights from United States (US) to Lisbon (LIS). Compare prices from hundreds of major travel agents and airlines, all in one search.\u001b[0m\n",
      "Thought:\u001b[32;1m\u001b[1;3mI need to compare the flight ticket prices to Lisbon and London.\n",
      "Action: search_tool\n",
      "Action Input: \"flight ticket prices from New York to London\"\u001b[0m\n",
      "Observation: \u001b[36;1m\u001b[1;3mfrom £93. London. £103 per passenger.Departing Wed, 26 Feb.One-way flight with Norse Atlantic Airways (UK).Outbound direct flight with Norse Atlantic Airways (UK) departs from New York John F. Kennedy on Wed, 26 Feb, arriving in London Gatwick.Price includes taxes and charges.From £103, select. Compare flight deals to London from New York Newark from over 1,000 providers. Then choose the cheapest or fastest plane tickets. Flex your dates to find the best New York Newark-London ticket prices. Brussels Airlines is Belgium's leading airline. Check the ticket fares for your flight between New York, NY and London: Economy Classic, Economy Flex and Business. Flight information from New York, NY to London with Brussels Airlines: Average Duration: 10 h 40 min. Cheapest Price: $515. Compare cheap flights and find tickets from New York (NYC) to London (LON). Book directly with no added fees. Skyscanner. Help; English (UK) EN United Kingdom £ GBP ... Looking for a cheap last-minute deal or the best return flight from New York to London? Find the lowest prices on one-way and return tickets right here. London. £283 per ... Delta is one of the most popular airlines flying from New York John F Kennedy Intl Airport to London, operating 36 flights/week on average for this route. A good Delta flight deal for New York John F Kennedy Intl Airport to London starts from $441 round-trip, up to an average price of $710. Our users have rated Delta at 8.0/10.\u001b[0m\n",
      "Thought:\u001b[32;1m\u001b[1;3mI now know the final answer\n",
      "Final Answer: The flight ticket prices from New York to Lisbon start from $751, while the flight ticket prices from New York to London start from $441. Flight tickets to London are cheaper than flight tickets to Lisbon.\u001b[0m\n",
      "\n",
      "\u001b[1m> Finished chain.\u001b[0m\n"
     ]
    },
    {
     "data": {
      "text/plain": [
       "{'input': 'What is cheaper, a flight to Lisbon or London',\n",
       " 'chat_history': 'Human: What is the weather in London\\nAI: The current weather in London is sunny with a high of 17°C and a low of 10°C. There is a gentle breeze expected throughout the day. UV index is 4.\\nHuman: Is this warmer than Barcelona\\nAI: The current weather in London is sunny with a high of 17°C and a low of 10°C, while the current temperature in Barcelona is not specified in the search results.\\nHuman: What about in comparison to Lisbon\\nAI: The current weather in London is sunny with a high of 17°C and a low of 10°C, while Lisbon has a forecast of temperatures as high as 24°C with a 40% chance of precipitation.\\nHuman: How much are flight tickets there from New York\\nAI: Flight ticket prices from New York to London can range from $441 to $710 round-trip on average.\\nHuman: IS this cheaper than a flight to London\\nAI: The best price for a return flight from New York to Barcelona is £291, while flight ticket prices from New York to London can range from $441 to $710 round-trip on average. Flight tickets to Barcelona are cheaper than flight tickets to London.',\n",
       " 'output': 'The flight ticket prices from New York to Lisbon start from $751, while the flight ticket prices from New York to London start from $441. Flight tickets to London are cheaper than flight tickets to Lisbon.'}"
      ]
     },
     "execution_count": 75,
     "metadata": {},
     "output_type": "execute_result"
    }
   ],
   "source": [
    "agent_executor.invoke('What is cheaper, a flight to Lisbon or London')\n",
    "                      \n",
    "                      "
   ]
  },
  {
   "cell_type": "code",
   "execution_count": null,
   "metadata": {},
   "outputs": [],
   "source": []
  },
  {
   "cell_type": "code",
   "execution_count": null,
   "metadata": {},
   "outputs": [],
   "source": []
  }
 ],
 "metadata": {
  "kernelspec": {
   "display_name": ".venv",
   "language": "python",
   "name": "python3"
  },
  "language_info": {
   "codemirror_mode": {
    "name": "ipython",
    "version": 3
   },
   "file_extension": ".py",
   "mimetype": "text/x-python",
   "name": "python",
   "nbconvert_exporter": "python",
   "pygments_lexer": "ipython3",
   "version": "3.10.0"
  }
 },
 "nbformat": 4,
 "nbformat_minor": 2
}
